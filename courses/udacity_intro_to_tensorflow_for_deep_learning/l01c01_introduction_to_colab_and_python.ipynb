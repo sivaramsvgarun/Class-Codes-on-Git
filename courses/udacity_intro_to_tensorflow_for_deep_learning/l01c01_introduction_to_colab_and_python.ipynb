{
  "cells": [
    {
      "cell_type": "code",
      "source": [
        "def check_odd_even():\n",
        "  num=int(input('Enter a Value:'))\n",
        "  if num%2==0:\n",
        "    print(f'{num} is an Even Number')\n",
        "  else:\n",
        "    print(f'{num} is an Odd Number')\n",
        "check_odd_even("
      ],
      "metadata": {
        "id": "-nck-FcuSIBN",
        "outputId": "21880121-5ac4-4d6a-aaa9-975f8d2bdc75",
        "colab": {
          "base_uri": "https://localhost:8080/",
          "height": 106
        }
      },
      "execution_count": 1,
      "outputs": [
        {
          "output_type": "error",
          "ename": "SyntaxError",
          "evalue": "incomplete input (ipython-input-3625111427.py, line 7)",
          "traceback": [
            "\u001b[0;36m  File \u001b[0;32m\"/tmp/ipython-input-3625111427.py\"\u001b[0;36m, line \u001b[0;32m7\u001b[0m\n\u001b[0;31m    check_odd_even(\u001b[0m\n\u001b[0m                   ^\u001b[0m\n\u001b[0;31mSyntaxError\u001b[0m\u001b[0;31m:\u001b[0m incomplete input\n"
          ]
        }
      ]
    }
  ],
  "metadata": {
    "accelerator": "GPU",
    "colab": {
      "name": "l01c01_introduction_to_colab_and_python.ipynb",
      "provenance": []
    },
    "kernelspec": {
      "display_name": "Python 3",
      "name": "python3"
    }
  },
  "nbformat": 4,
  "nbformat_minor": 0
}